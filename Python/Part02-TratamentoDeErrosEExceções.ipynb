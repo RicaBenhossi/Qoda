{
  "cells": [
    {
      "cell_type": "markdown",
      "metadata": {
        "id": "6hBUcAjdRilf",
        "colab_type": "text"
      },
      "source": [
        "# **>>> Tratando Erros e Exceções**\n",
        "\n",
        "---\n",
        "\n",
        "Erros vão acontecer e é importante que você os preveja e trate-os antes de sua aparição.\n",
        "\n",
        "---\n",
        "\n",
        "### **>>> Erros Comuns**\n",
        "IOError: Se o arquivo não puder ser aberto/salvo.\n",
        "<br>ImportError: Se o python não encontra o módulo\n",
        "<br>ValueError: Operação recebe valor inadequado\n",
        "<br>KeyboardInterrupt: Quando usuário clica DELETE ou CTRL+C\n",
        "<br>EOFError: Quando o input não recebe nenhum dado\n",
        "<br>TypeError: Erro de tipo para operação"
      ]
    },
    {
      "cell_type": "code",
      "metadata": {
        "id": "Lz4nV2sET68N",
        "colab_type": "code",
        "colab": {}
      },
      "source": [
        "x = input(\"Digite um número:\")\n",
        "print(x/1)"
      ],
      "execution_count": 0,
      "outputs": []
    },
    {
      "cell_type": "markdown",
      "metadata": {
        "id": "VuFhiBwgRszZ",
        "colab_type": "text"
      },
      "source": [
        "## **>>> Try / Except**\n",
        "\n",
        "---\n",
        "\n"
      ]
    },
    {
      "cell_type": "code",
      "metadata": {
        "id": "By73U-jbRedn",
        "colab_type": "code",
        "colab": {}
      },
      "source": [
        "# Try = tentar\n",
        "# Except = Exceção\n",
        "\n",
        "try:\n",
        "  x = input(\"Digite um número:\")\n",
        "  print(x/1)\n",
        "except TypeError:\n",
        "  print(\"Erro de tipo!\")"
      ],
      "execution_count": 0,
      "outputs": []
    },
    {
      "cell_type": "code",
      "metadata": {
        "id": "_7huXffaUq8F",
        "colab_type": "code",
        "colab": {}
      },
      "source": [
        "while True:\n",
        "  try:\n",
        "    x = int(input(\"Digite um número inteiro: \"))\n",
        "    print(f\"Dividindo 100 por {x} teremos {int(100/x)}\")\n",
        "    break\n",
        "  except ValueError:\n",
        "    print(\"O valor digitado não é um inteiro. Tente novamente\")  "
      ],
      "execution_count": 0,
      "outputs": []
    },
    {
      "cell_type": "markdown",
      "metadata": {
        "id": "HI3dzYdiRy17",
        "colab_type": "text"
      },
      "source": [
        "## **>>> Else**\n",
        "\n",
        "---\n",
        "\n"
      ]
    },
    {
      "cell_type": "code",
      "metadata": {
        "id": "LMrrcdsOR5RN",
        "colab_type": "code",
        "colab": {}
      },
      "source": [
        "try:\n",
        "  x = int(input(\"Digite um número inteiro: \"))\n",
        "  print(f\"Dividindo 100 por {x} teremos {int(100/x)}\")\n",
        "except ValueError:\n",
        "  print(\"O valor digitado não é um inteiro. Tente novamente\")  \n",
        "else:\n",
        "  print(\"Executado com sucesso!\")"
      ],
      "execution_count": 0,
      "outputs": []
    },
    {
      "cell_type": "markdown",
      "metadata": {
        "id": "x0lyFTZeR1Yp",
        "colab_type": "text"
      },
      "source": [
        "## **>>> Finally**\n",
        "\n",
        "---\n",
        "\n"
      ]
    },
    {
      "cell_type": "code",
      "metadata": {
        "id": "KbqOPGnbR5tH",
        "colab_type": "code",
        "colab": {}
      },
      "source": [
        "while True:\n",
        "  try:\n",
        "    x = int(input(\"Digite um número inteiro: \"))\n",
        "    print(f\"Dividindo 100 por {x} teremos {int(100/x)}\")\n",
        "    break\n",
        "  except ValueError:\n",
        "    print(\"O valor digitado não é um inteiro. Tente novamente\")  \n",
        "  finally:\n",
        "    print(\"O finally executa o bloco havendo ou não exceções!\")"
      ],
      "execution_count": 0,
      "outputs": []
    },
    {
      "cell_type": "markdown",
      "metadata": {
        "id": "tue8ihhgZcx9",
        "colab_type": "text"
      },
      "source": [
        "## **>>> Resumindo...**\n",
        "\n",
        "---\n",
        "\n",
        "try: seu código;\n",
        "<br>except: tratamento dos erros;\n",
        "<br>else: tratamento com senão;\n",
        "<br>finally: executa com ou sem exceções;"
      ]
    },
    {
      "cell_type": "markdown",
      "metadata": {
        "id": "pRLgMgb8R9c5",
        "colab_type": "text"
      },
      "source": [
        "# **>>> Exercícios**\n",
        "\n",
        "---\n",
        "\n"
      ]
    },
    {
      "cell_type": "markdown",
      "metadata": {
        "id": "XGWtwD3QIKc2",
        "colab_type": "text"
      },
      "source": [
        " **1.** Crie um código em Python que solicite do usuário o input de um número inteiro. Caso haja preenchimento diferente, a máquina deve  guiar o usuário até ajustar sua resposta. (Fácil)"
      ]
    },
    {
      "cell_type": "code",
      "metadata": {
        "id": "vzDDUZvrIPCf",
        "colab_type": "code",
        "colab": {}
      },
      "source": [
        "# Insira seu código aqui\n",
        "while True:\n",
        "    try:\n",
        "        resposta = int(input(\"Digite um número inteiro: \"))\n",
        "        break\n",
        "    except TypeError:\n",
        "        print(\"Você não digitou um número inteiro. Tente novamente.\")\n",
        "    else:\n",
        "        print(f\"Você digitou o número {resposta}\")"
      ],
      "execution_count": 0,
      "outputs": []
    },
    {
      "cell_type": "markdown",
      "metadata": {
        "id": "JvrLbNiOIPb5",
        "colab_type": "text"
      },
      "source": [
        "**2.** Crie um código em Python que solicite do usuário o input de 2 números inteiros e assim divida o primeiro número pelo segundo. Caso o input não seja um número inteiro, seu código deve guiar o usuário até o preenchimento correto. Caso o usuário preencha com 0,  que apresente mensagem falando sobre a indivisibilidade por zero. Caso o usuário não digite um número, informar que um número deve ser digitado. Em outros casos de erro, apresente ao usuário uma mensagem de erro inesperado.(Médio)"
      ]
    },
    {
      "cell_type": "code",
      "metadata": {
        "id": "9YdH3SMNITYf",
        "colab_type": "code",
        "colab": {}
      },
      "source": [
        "# Insira seu código aqui\n",
        "while True:\n",
        "    try:\n",
        "        dividendo = float(input(\"Digite o dividendo: \"))\n",
        "        while True:\n",
        "            try:\n",
        "                divisor = float(input(\"Digite o divisor: \"))\n",
        "                try:\n",
        "                    resultado = dividendo / divisor\n",
        "                    break\n",
        "                except ZeroDivisionError:\n",
        "                    print(\"O divisor precisa ser maior que 0. Tente novamente.\")\n",
        "            except ValueError:\n",
        "                print(\"Você não digitou um divisor. Tente novamente.\")\n",
        "        break\n",
        "    except ValueError:\n",
        "        print(\"Você não digitou um dividendo. Tente novamente.\")\n",
        "\n",
        "print(f\"O resultado da divisão ente {dividendo} e {divisor} é {resultado}\")"
      ],
      "execution_count": 10,
      "outputs": [
        {
          "output_type": "error",
          "ename": "KeyboardInterrupt",
          "evalue": "",
          "traceback": [
            "\u001b[0;31m---------------------------------------------------------------------------\u001b[0m",
            "\u001b[0;31mKeyboardInterrupt\u001b[0m                         Traceback (most recent call last)",
            "\u001b[0;32m/opt/conda/lib/python3.7/site-packages/ipykernel/kernelbase.py\u001b[0m in \u001b[0;36m_input_request\u001b[0;34m(self, prompt, ident, parent, password)\u001b[0m\n\u001b[1;32m    883\u001b[0m             \u001b[0;32mtry\u001b[0m\u001b[0;34m:\u001b[0m\u001b[0;34m\u001b[0m\u001b[0;34m\u001b[0m\u001b[0m\n\u001b[0;32m--> 884\u001b[0;31m                 \u001b[0mident\u001b[0m\u001b[0;34m,\u001b[0m \u001b[0mreply\u001b[0m \u001b[0;34m=\u001b[0m \u001b[0mself\u001b[0m\u001b[0;34m.\u001b[0m\u001b[0msession\u001b[0m\u001b[0;34m.\u001b[0m\u001b[0mrecv\u001b[0m\u001b[0;34m(\u001b[0m\u001b[0mself\u001b[0m\u001b[0;34m.\u001b[0m\u001b[0mstdin_socket\u001b[0m\u001b[0;34m,\u001b[0m \u001b[0;36m0\u001b[0m\u001b[0;34m)\u001b[0m\u001b[0;34m\u001b[0m\u001b[0;34m\u001b[0m\u001b[0m\n\u001b[0m\u001b[1;32m    885\u001b[0m             \u001b[0;32mexcept\u001b[0m \u001b[0mException\u001b[0m\u001b[0;34m:\u001b[0m\u001b[0;34m\u001b[0m\u001b[0;34m\u001b[0m\u001b[0m\n",
            "\u001b[0;32m/opt/conda/lib/python3.7/site-packages/jupyter_client/session.py\u001b[0m in \u001b[0;36mrecv\u001b[0;34m(self, socket, mode, content, copy)\u001b[0m\n\u001b[1;32m    802\u001b[0m         \u001b[0;32mtry\u001b[0m\u001b[0;34m:\u001b[0m\u001b[0;34m\u001b[0m\u001b[0;34m\u001b[0m\u001b[0m\n\u001b[0;32m--> 803\u001b[0;31m             \u001b[0mmsg_list\u001b[0m \u001b[0;34m=\u001b[0m \u001b[0msocket\u001b[0m\u001b[0;34m.\u001b[0m\u001b[0mrecv_multipart\u001b[0m\u001b[0;34m(\u001b[0m\u001b[0mmode\u001b[0m\u001b[0;34m,\u001b[0m \u001b[0mcopy\u001b[0m\u001b[0;34m=\u001b[0m\u001b[0mcopy\u001b[0m\u001b[0;34m)\u001b[0m\u001b[0;34m\u001b[0m\u001b[0;34m\u001b[0m\u001b[0m\n\u001b[0m\u001b[1;32m    804\u001b[0m         \u001b[0;32mexcept\u001b[0m \u001b[0mzmq\u001b[0m\u001b[0;34m.\u001b[0m\u001b[0mZMQError\u001b[0m \u001b[0;32mas\u001b[0m \u001b[0me\u001b[0m\u001b[0;34m:\u001b[0m\u001b[0;34m\u001b[0m\u001b[0;34m\u001b[0m\u001b[0m\n",
            "\u001b[0;32m/opt/conda/lib/python3.7/site-packages/zmq/sugar/socket.py\u001b[0m in \u001b[0;36mrecv_multipart\u001b[0;34m(self, flags, copy, track)\u001b[0m\n\u001b[1;32m    474\u001b[0m         \"\"\"\n\u001b[0;32m--> 475\u001b[0;31m         \u001b[0mparts\u001b[0m \u001b[0;34m=\u001b[0m \u001b[0;34m[\u001b[0m\u001b[0mself\u001b[0m\u001b[0;34m.\u001b[0m\u001b[0mrecv\u001b[0m\u001b[0;34m(\u001b[0m\u001b[0mflags\u001b[0m\u001b[0;34m,\u001b[0m \u001b[0mcopy\u001b[0m\u001b[0;34m=\u001b[0m\u001b[0mcopy\u001b[0m\u001b[0;34m,\u001b[0m \u001b[0mtrack\u001b[0m\u001b[0;34m=\u001b[0m\u001b[0mtrack\u001b[0m\u001b[0;34m)\u001b[0m\u001b[0;34m]\u001b[0m\u001b[0;34m\u001b[0m\u001b[0;34m\u001b[0m\u001b[0m\n\u001b[0m\u001b[1;32m    476\u001b[0m         \u001b[0;31m# have first part already, only loop while more to receive\u001b[0m\u001b[0;34m\u001b[0m\u001b[0;34m\u001b[0m\u001b[0;34m\u001b[0m\u001b[0m\n",
            "\u001b[0;32mzmq/backend/cython/socket.pyx\u001b[0m in \u001b[0;36mzmq.backend.cython.socket.Socket.recv\u001b[0;34m()\u001b[0m\n",
            "\u001b[0;32mzmq/backend/cython/socket.pyx\u001b[0m in \u001b[0;36mzmq.backend.cython.socket.Socket.recv\u001b[0;34m()\u001b[0m\n",
            "\u001b[0;32mzmq/backend/cython/socket.pyx\u001b[0m in \u001b[0;36mzmq.backend.cython.socket._recv_copy\u001b[0;34m()\u001b[0m\n",
            "\u001b[0;32m/opt/conda/lib/python3.7/site-packages/zmq/backend/cython/checkrc.pxd\u001b[0m in \u001b[0;36mzmq.backend.cython.checkrc._check_rc\u001b[0;34m()\u001b[0m\n",
            "\u001b[0;31mKeyboardInterrupt\u001b[0m: ",
            "\nDuring handling of the above exception, another exception occurred:\n",
            "\u001b[0;31mKeyboardInterrupt\u001b[0m                         Traceback (most recent call last)",
            "\u001b[0;32m<ipython-input-10-5a90252084e6>\u001b[0m in \u001b[0;36m<module>\u001b[0;34m\u001b[0m\n\u001b[1;32m      2\u001b[0m \u001b[0;32mwhile\u001b[0m \u001b[0;32mTrue\u001b[0m\u001b[0;34m:\u001b[0m\u001b[0;34m\u001b[0m\u001b[0;34m\u001b[0m\u001b[0m\n\u001b[1;32m      3\u001b[0m     \u001b[0;32mtry\u001b[0m\u001b[0;34m:\u001b[0m\u001b[0;34m\u001b[0m\u001b[0;34m\u001b[0m\u001b[0m\n\u001b[0;32m----> 4\u001b[0;31m         \u001b[0mdividendo\u001b[0m \u001b[0;34m=\u001b[0m \u001b[0mfloat\u001b[0m\u001b[0;34m(\u001b[0m\u001b[0minput\u001b[0m\u001b[0;34m(\u001b[0m\u001b[0;34m\"Digite o dividendo: \"\u001b[0m\u001b[0;34m)\u001b[0m\u001b[0;34m)\u001b[0m\u001b[0;34m\u001b[0m\u001b[0;34m\u001b[0m\u001b[0m\n\u001b[0m\u001b[1;32m      5\u001b[0m         \u001b[0;32mwhile\u001b[0m \u001b[0;32mTrue\u001b[0m\u001b[0;34m:\u001b[0m\u001b[0;34m\u001b[0m\u001b[0;34m\u001b[0m\u001b[0m\n\u001b[1;32m      6\u001b[0m             \u001b[0;32mtry\u001b[0m\u001b[0;34m:\u001b[0m\u001b[0;34m\u001b[0m\u001b[0;34m\u001b[0m\u001b[0m\n",
            "\u001b[0;32m/opt/conda/lib/python3.7/site-packages/ipykernel/kernelbase.py\u001b[0m in \u001b[0;36mraw_input\u001b[0;34m(self, prompt)\u001b[0m\n\u001b[1;32m    857\u001b[0m             \u001b[0mself\u001b[0m\u001b[0;34m.\u001b[0m\u001b[0m_parent_ident\u001b[0m\u001b[0;34m,\u001b[0m\u001b[0;34m\u001b[0m\u001b[0;34m\u001b[0m\u001b[0m\n\u001b[1;32m    858\u001b[0m             \u001b[0mself\u001b[0m\u001b[0;34m.\u001b[0m\u001b[0m_parent_header\u001b[0m\u001b[0;34m,\u001b[0m\u001b[0;34m\u001b[0m\u001b[0;34m\u001b[0m\u001b[0m\n\u001b[0;32m--> 859\u001b[0;31m             \u001b[0mpassword\u001b[0m\u001b[0;34m=\u001b[0m\u001b[0;32mFalse\u001b[0m\u001b[0;34m,\u001b[0m\u001b[0;34m\u001b[0m\u001b[0;34m\u001b[0m\u001b[0m\n\u001b[0m\u001b[1;32m    860\u001b[0m         )\n\u001b[1;32m    861\u001b[0m \u001b[0;34m\u001b[0m\u001b[0m\n",
            "\u001b[0;32m/opt/conda/lib/python3.7/site-packages/ipykernel/kernelbase.py\u001b[0m in \u001b[0;36m_input_request\u001b[0;34m(self, prompt, ident, parent, password)\u001b[0m\n\u001b[1;32m    887\u001b[0m             \u001b[0;32mexcept\u001b[0m \u001b[0mKeyboardInterrupt\u001b[0m\u001b[0;34m:\u001b[0m\u001b[0;34m\u001b[0m\u001b[0;34m\u001b[0m\u001b[0m\n\u001b[1;32m    888\u001b[0m                 \u001b[0;31m# re-raise KeyboardInterrupt, to truncate traceback\u001b[0m\u001b[0;34m\u001b[0m\u001b[0;34m\u001b[0m\u001b[0;34m\u001b[0m\u001b[0m\n\u001b[0;32m--> 889\u001b[0;31m                 \u001b[0;32mraise\u001b[0m \u001b[0mKeyboardInterrupt\u001b[0m\u001b[0;34m\u001b[0m\u001b[0;34m\u001b[0m\u001b[0m\n\u001b[0m\u001b[1;32m    890\u001b[0m             \u001b[0;32melse\u001b[0m\u001b[0;34m:\u001b[0m\u001b[0;34m\u001b[0m\u001b[0;34m\u001b[0m\u001b[0m\n\u001b[1;32m    891\u001b[0m                 \u001b[0;32mbreak\u001b[0m\u001b[0;34m\u001b[0m\u001b[0;34m\u001b[0m\u001b[0m\n",
            "\u001b[0;31mKeyboardInterrupt\u001b[0m: "
          ]
        }
      ]
    },
    {
      "cell_type": "markdown",
      "metadata": {
        "id": "jtw8QMYDIRaB",
        "colab_type": "text"
      },
      "source": [
        "**3.** Crie um código em Python que peça um número ímpar do usuário. Caso o número seja par, apresente mensagem guiando o usuário até o preenchimento correto(Difícil)"
      ]
    },
    {
      "cell_type": "code",
      "metadata": {
        "id": "vC_p3cQbITOF",
        "colab_type": "code",
        "colab": {}
      },
      "source": [
        "# Insira seu código aqui\n",
        "while True:\n",
        "    try:\n",
        "        numero = float(input(\"Digite um número ÍMPAR: \"))\n",
        "        divisor = numero % 2\n",
        "        try:\n",
        "            teste = 2 / divisor\n",
        "            print(f\"O número digitado foi {numero} e ele é ÍMPAR.\")\n",
        "            break\n",
        "        except ZeroDivisionError:\n",
        "            print(f\"O número {numero} digitado é par. Tente novamente.\")\n",
        "    except ValueError:\n",
        "        print(\"Você não digitou um número. Tente novamente.\")"
      ],
      "execution_count": 4,
      "outputs": [
        {
          "output_type": "stream",
          "name": "stdout",
          "text": "O número 2.0 digitado é par. Tente novamente.\nVocê não digitou um número. Tente novamente.\nVocê não digitou um número. Tente novamente.\nVocê não digitou um número. Tente novamente.\nO número 4.0 digitado é par. Tente novamente.\nO número 6.0 digitado é par. Tente novamente.\nO número 10.0 digitado é par. Tente novamente.\nO número digitado foi 11.0 e ele é ÍMPAR.\n"
        }
      ]
    },
    {
      "cell_type": "markdown",
      "metadata": {
        "id": "Se618gaqIWP5",
        "colab_type": "text"
      },
      "source": [
        "# **Solução**"
      ]
    },
    {
      "cell_type": "code",
      "metadata": {
        "id": "lQ5ynDl8IatH",
        "colab_type": "code",
        "colab": {}
      },
      "source": [
        "# Exercício 1\n",
        "while True:\n",
        "  try:\n",
        "    x = int(input(\"Digite um número inteiro: \"))\n",
        "    print(f\"Dividindo 100 por {x} teremos {int(100/x)}\")\n",
        "    break\n",
        "  except ValueError:\n",
        "    print(\"O valor digitado não é um inteiro. Tente novamente\")"
      ],
      "execution_count": 0,
      "outputs": []
    },
    {
      "cell_type": "code",
      "metadata": {
        "id": "oKK_wWGyIa3J",
        "colab_type": "code",
        "colab": {}
      },
      "source": [
        "# Exercício 2\n",
        "while True:\n",
        "  try:\n",
        "      x = int( input( \"Digite 1 número: \" ) )\n",
        "      y = int( input( \"Digite outro número: \" ) )\n",
        "      print( x, '/', y, '=', x/y )\n",
        "      break\n",
        "  except ZeroDivisionError:\n",
        "      print( \"Indivisível por 0!\" )\n",
        "  except ValueError:\n",
        "      print( \"Isto nem parece ser um número!\" )\n",
        "  except:\n",
        "      print( \"Algo inesperado ocorreu! Tente novamente\" )"
      ],
      "execution_count": 0,
      "outputs": []
    },
    {
      "cell_type": "code",
      "metadata": {
        "id": "PcGk09z-Ia_n",
        "colab_type": "code",
        "colab": {}
      },
      "source": [
        "# Exercício 3 SOLUÇÃO ESTÁ ERRADA. NÃO FUNCIONA\n",
        "while True:\n",
        "  try:\n",
        "    x = int(input(\"Digite um número ímpar: \"))\n",
        "    print(x%3)\n",
        "  except:\n",
        "    if x%2 == 0:\n",
        "      print(\"Este número é par. Preencha com um valor ímpar\")\n"
      ],
      "execution_count": 1,
      "outputs": [
        {
          "output_type": "stream",
          "name": "stdout",
          "text": "1\n2\n1\n2\nEste número é par. Preencha com um valor ímpar\nEste número é par. Preencha com um valor ímpar\nEste número é par. Preencha com um valor ímpar\nEste número é par. Preencha com um valor ímpar\nEste número é par. Preencha com um valor ímpar\nEste número é par. Preencha com um valor ímpar\nEste número é par. Preencha com um valor ímpar\nEste número é par. Preencha com um valor ímpar\nEste número é par. Preencha com um valor ímpar\nEste número é par. Preencha com um valor ímpar\nEste número é par. Preencha com um valor ímpar\nEste número é par. Preencha com um valor ímpar\nEste número é par. Preencha com um valor ímpar\nEste número é par. Preencha com um valor ímpar\nEste número é par. Preencha com um valor ímpar\nEste número é par. Preencha com um valor ímpar\nEste número é par. Preencha com um valor ímpar\nEste número é par. Preencha com um valor ímpar\nEste número é par. Preencha com um valor ímpar\nEste número é par. Preencha com um valor ímpar\nEste número é par. Preencha com um valor ímpar\nEste número é par. Preencha com um valor ímpar\nEste número é par. Preencha com um valor ímpar\nEste número é par. Preencha com um valor ímpar\nEste número é par. Preencha com um valor ímpar\nEste número é par. Preencha com um valor ímpar\nEste número é par. Preencha com um valor ímpar\nEste número é par. Preencha com um valor ímpar\nEste número é par. Preencha com um valor ímpar\nEste número é par. Preencha com um valor ímpar\nEste número é par. Preencha com um valor ímpar\nEste número é par. Preencha com um valor ímpar\nEste número é par. Preencha com um valor ímpar\nEste número é par. Preencha com um valor ímpar\nEste número é par. Preencha com um valor ímpar\nEste número é par. Preencha com um valor ímpar\nEste número é par. Preencha com um valor ímpar\nEste número é par. Preencha com um valor ímpar\nEste número é par. Preencha com um valor ímpar\nEste número é par. Preencha com um valor ímpar\nEste número é par. Preencha com um valor ímpar\nEste número é par. Preencha com um valor ímpar\nEste número é par. Preencha com um valor ímpar\nEste número é par. Preencha com um valor ímpar\nEste número é par. Preencha com um valor ímpar\nEste número é par. Preencha com um valor ímpar\nEste número é par. Preencha com um valor ímpar\nEste número é par. Preencha com um valor ímpar\nEste número é par. Preencha com um valor ímpar\nEste número é par. Preencha com um valor ímpar\nEste número é par. Preencha com um valor ímpar\nEste número é par. Preencha com um valor ímpar\nEste número é par. Preencha com um valor ímpar\nEste número é par. Preencha com um valor ímpar\nEste número é par. Preencha com um valor ímpar\nEste número é par. Preencha com um valor ímpar\nEste número é par. Preencha com um valor ímpar\nEste número é par. Preencha com um valor ímpar\nEste número é par. Preencha com um valor ímpar\nEste número é par. Preencha com um valor ímpar\nEste número é par. Preencha com um valor ímpar\nEste número é par. Preencha com um valor ímpar\nEste número é par. Preencha com um valor ímpar\nEste número é par. Preencha com um valor ímpar\nEste número é par. Preencha com um valor ímpar\nEste número é par. Preencha com um valor ímpar\nEste número é par. Preencha com um valor ímpar\nEste número é par. Preencha com um valor ímpar\nEste número é par. Preencha com um valor ímpar\nEste número é par. Preencha com um valor ímpar\nEste número é par. Preencha com um valor ímpar\nEste número é par. Preencha com um valor ímpar\nEste número é par. Preencha com um valor ímpar\nEste número é par. Preencha com um valor ímpar\nEste número é par. Preencha com um valor ímpar\nEste número é par. Preencha com um valor ímpar\nEste número é par. Preencha com um valor ímpar\nEste número é par. Preencha com um valor ímpar\nEste número é par. Preencha com um valor ímpar\nEste número é par. Preencha com um valor ímpar\nEste número é par. Preencha com um valor ímpar\nEste número é par. Preencha com um valor ímpar\nEste número é par. Preencha com um valor ímpar\nEste número é par. Preencha com um valor ímpar\nEste número é par. Preencha com um valor ímpar\nEste número é par. Preencha com um valor ímpar\nEste número é par. Preencha com um valor ímpar\nEste número é par. Preencha com um valor ímpar\nEste número é par. Preencha com um valor ímpar\nEste número é par. Preencha com um valor ímpar\nEste número é par. Preencha com um valor ímpar\nEste número é par. Preencha com um valor ímpar\nEste número é par. Preencha com um valor ímpar\nEste número é par. Preencha com um valor ímpar\nEste número é par. Preencha com um valor ímpar\nEste número é par. Preencha com um valor ímpar\nEste número é par. Preencha com um valor ímpar\nEste número é par. Preencha com um valor ímpar\nEste número é par. Preencha com um valor ímpar\nEste número é par. Preencha com um valor ímpar\nEste número é par. Preencha com um valor ímpar\nEste número é par. Preencha com um valor ímpar\nEste número é par. Preencha com um valor ímpar\nEste número é par. Preencha com um valor ímpar\nEste número é par. Preencha com um valor ímpar\nEste número é par. Preencha com um valor ímpar\nEste número é par. Preencha com um valor ímpar\nEste número é par. Preencha com um valor ímpar\nEste número é par. Preencha com um valor ímpar\nEste número é par. Preencha com um valor ímpar\nEste número é par. Preencha com um valor ímpar\nEste número é par. Preencha com um valor ímpar\nEste número é par. Preencha com um valor ímpar\nEste número é par. Preencha com um valor ímpar\nEste número é par. Preencha com um valor ímpar\nEste número é par. Preencha com um valor ímpar\nEste número é par. Preencha com um valor ímpar\nEste número é par. Preencha com um valor ímpar\nEste número é par. Preencha com um valor ímpar\nEste número é par. Preencha com um valor ímpar\nEste número é par. Preencha com um valor ímpar\nEste número é par. Preencha com um valor ímpar\nEste número é par. Preencha com um valor ímpar\nEste número é par. Preencha com um valor ímpar\nEste número é par. Preencha com um valor ímpar\nEste número é par. Preencha com um valor ímpar\nEste número é par. Preencha com um valor ímpar\nEste número é par. Preencha com um valor ímpar\nEste número é par. Preencha com um valor ímpar\nEste número é par. Preencha com um valor ímpar\nEste número é par. Preencha com um valor ímpar\nEste número é par. Preencha com um valor ímpar\nEste número é par. Preencha com um valor ímpar\nEste número é par. Preencha com um valor ímpar\nEste número é par. Preencha com um valor ímpar\nEste número é par. Preencha com um valor ímpar\nEste número é par. Preencha com um valor ímpar\nEste número é par. Preencha com um valor ímpar\nEste número é par. Preencha com um valor ímpar\nEste número é par. Preencha com um valor ímpar\nEste número é par. Preencha com um valor ímpar\nEste número é par. Preencha com um valor ímpar\nEste número é par. Preencha com um valor ímpar\nEste número é par. Preencha com um valor ímpar\nEste número é par. Preencha com um valor ímpar\nEste número é par. Preencha com um valor ímpar\nEste número é par. Preencha com um valor ímpar\nEste número é par. Preencha com um valor ímpar\nEste número é par. Preencha com um valor ímpar\nEste número é par. Preencha com um valor ímpar\nEste número é par. Preencha com um valor ímpar\nEste número é par. Preencha com um valor ímpar\nEste número é par. Preencha com um valor ímpar\nEste número é par. Preencha com um valor ímpar\nEste número é par. Preencha com um valor ímpar\nEste número é par. Preencha com um valor ímpar\nEste número é par. Preencha com um valor ímpar\nEste número é par. Preencha com um valor ímpar\nEste número é par. Preencha com um valor ímpar\nEste número é par. Preencha com um valor ímpar\nEste número é par. Preencha com um valor ímpar\nEste número é par. Preencha com um valor ímpar\nEste número é par. Preencha com um valor ímpar\nEste número é par. Preencha com um valor ímpar\nEste número é par. Preencha com um valor ímpar\nEste número é par. Preencha com um valor ímpar\nEste número é par. Preencha com um valor ímpar\nEste número é par. Preencha com um valor ímpar\nEste número é par. Preencha com um valor ímpar\nEste número é par. Preencha com um valor ímpar\nEste número é par. Preencha com um valor ímpar\nEste número é par. Preencha com um valor ímpar\nEste número é par. Preencha com um valor ímpar\nEste número é par. Preencha com um valor ímpar\nEste número é par. Preencha com um valor ímpar\nEste número é par. Preencha com um valor ímpar\nEste número é par. Preencha com um valor ímpar\nEste número é par. Preencha com um valor ímpar\nEste número é par. Preencha com um valor ímpar\nEste número é par. Preencha com um valor ímpar\nEste número é par. Preencha com um valor ímpar\nEste número é par. Preencha com um valor ímpar\nEste número é par. Preencha com um valor ímpar\nEste número é par. Preencha com um valor ímpar\nEste número é par. Preencha com um valor ímpar\nEste número é par. Preencha com um valor ímpar\nEste número é par. Preencha com um valor ímpar\nEste número é par. Preencha com um valor ímpar\nEste número é par. Preencha com um valor ímpar\nEste número é par. Preencha com um valor ímpar\nEste número é par. Preencha com um valor ímpar\nEste número é par. Preencha com um valor ímpar\nEste número é par. Preencha com um valor ímpar\nEste número é par. Preencha com um valor ímpar\nEste número é par. Preencha com um valor ímpar\nEste número é par. Preencha com um valor ímpar\nEste número é par. Preencha com um valor ímpar\nEste número é par. Preencha com um valor ímpar\nEste número é par. Preencha com um valor ímpar\nEste número é par. Preencha com um valor ímpar\nEste número é par. Preencha com um valor ímpar\nEste número é par. Preencha com um valor ímpar\nEste número é par. Preencha com um valor ímpar\nEste número é par. Preencha com um valor ímpar\nEste número é par. Preencha com um valor ímpar\nEste número é par. Preencha com um valor ímpar\nEste número é par. Preencha com um valor ímpar\nEste número é par. Preencha com um valor ímpar\nEste número é par. Preencha com um valor ímpar\nEste número é par. Preencha com um valor ímpar\nEste número é par. Preencha com um valor ímpar\nEste número é par. Preencha com um valor ímpar\nEste número é par. Preencha com um valor ímpar\nEste número é par. Preencha com um valor ímpar\nEste número é par. Preencha com um valor ímpar\nEste número é par. Preencha com um valor ímpar\nEste número é par. Preencha com um valor ímpar\nEste número é par. Preencha com um valor ímpar\nEste número é par. Preencha com um valor ímpar\nEste número é par. Preencha com um valor ímpar\nEste número é par. Preencha com um valor ímpar\nEste número é par. Preencha com um valor ímpar\nEste número é par. Preencha com um valor ímpar\nEste número é par. Preencha com um valor ímpar\nEste número é par. Preencha com um valor ímpar\nEste número é par. Preencha com um valor ímpar\nEste número é par. Preencha com um valor ímpar\nEste número é par. Preencha com um valor ímpar\nEste número é par. Preencha com um valor ímpar\nEste número é par. Preencha com um valor ímpar\nEste número é par. Preencha com um valor ímpar\nEste número é par. Preencha com um valor ímpar\nEste número é par. Preencha com um valor ímpar\nEste número é par. Preencha com um valor ímpar\nEste número é par. Preencha com um valor ímpar\nEste número é par. Preencha com um valor ímpar\nEste número é par. Preencha com um valor ímpar\nEste número é par. Preencha com um valor ímpar\nEste número é par. Preencha com um valor ímpar\nEste número é par. Preencha com um valor ímpar\nEste número é par. Preencha com um valor ímpar\nEste número é par. Preencha com um valor ímpar\nEste número é par. Preencha com um valor ímpar\nEste número é par. Preencha com um valor ímpar\nEste número é par. Preencha com um valor ímpar\nEste número é par. Preencha com um valor ímpar\nEste número é par. Preencha com um valor ímpar\nEste número é par. Preencha com um valor ímpar\nEste número é par. Preencha com um valor ímpar\nEste número é par. Preencha com um valor ímpar\nEste número é par. Preencha com um valor ímpar\nEste número é par. Preencha com um valor ímpar\nEste número é par. Preencha com um valor ímpar\nEste número é par. Preencha com um valor ímpar\nEste número é par. Preencha com um valor ímpar\nEste número é par. Preencha com um valor ímpar\nEste número é par. Preencha com um valor ímpar\nEste número é par. Preencha com um valor ímpar\nEste número é par. Preencha com um valor ímpar\nEste número é par. Preencha com um valor ímpar\nEste número é par. Preencha com um valor ímpar\nEste número é par. Preencha com um valor ímpar\nEste número é par. Preencha com um valor ímpar\nEste número é par. Preencha com um valor ímpar\nEste número é par. Preencha com um valor ímpar\nEste número é par. Preencha com um valor ímpar\nEste número é par. Preencha com um valor ímpar\nEste número é par. Preencha com um valor ímpar\nEste número é par. Preencha com um valor ímpar\nEste número é par. Preencha com um valor ímpar\nEste número é par. Preencha com um valor ímpar\nEste número é par. Preencha com um valor ímpar\nEste número é par. Preencha com um valor ímpar\nEste número é par. Preencha com um valor ímpar\nEste número é par. Preencha com um valor ímpar\nEste número é par. Preencha com um valor ímpar\nEste número é par. Preencha com um valor ímpar\nEste número é par. Preencha com um valor ímpar\nEste número é par. Preencha com um valor ímpar\nEste número é par. Preencha com um valor ímpar\nEste número é par. Preencha com um valor ímpar\nEste número é par. Preencha com um valor ímpar\nEste número é par. Preencha com um valor ímpar\nEste número é par. Preencha com um valor ímpar\nEste número é par. Preencha com um valor ímpar\nEste número é par. Preencha com um valor ímpar\nEste número é par. Preencha com um valor ímpar\nEste número é par. Preencha com um valor ímpar\nEste número é par. Preencha com um valor ímpar\nEste número é par. Preencha com um valor ímpar\nEste número é par. Preencha com um valor ímpar\nEste número é par. Preencha com um valor ímpar\nEste número é par. Preencha com um valor ímpar\nEste número é par. Preencha com um valor ímpar\nEste número é par. Preencha com um valor ímpar\nEste número é par. Preencha com um valor ímpar\nEste número é par. Preencha com um valor ímpar\nEste número é par. Preencha com um valor ímpar\nEste número é par. Preencha com um valor ímpar\nEste número é par. Preencha com um valor ímpar\nEste número é par. Preencha com um valor ímpar\nEste número é par. Preencha com um valor ímpar\nEste número é par. Preencha com um valor ímpar\nEste número é par. Preencha com um valor ímpar\n"
        }
      ]
    },
    {
      "cell_type": "code",
      "execution_count": null,
      "metadata": {},
      "outputs": [],
      "source": []
    }
  ],
  "metadata": {
    "colab": {
      "name": "TratamentoDeErrosEExceções.ipynb",
      "provenance": [],
      "private_outputs": true,
      "collapsed_sections": []
    },
    "kernelspec": {
      "name": "python3",
      "display_name": "Python 3"
    },
    "accelerator": "GPU"
  },
  "nbformat": 4,
  "nbformat_minor": 0
}