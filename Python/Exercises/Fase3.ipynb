{
  "cells": [
    {
      "cell_type": "markdown",
      "metadata": {
        "id": "CYNAmoj4zSXl",
        "colab_type": "text"
      },
      "source": [
        "Crie um algoritmo em Python que peça uma nota, entre zero e 100. Mostre uma mensagem caso o valor seja inválido e continue pedindo até que o usuário informe um valor válido."
      ]
    },
    {
      "cell_type": "code",
      "metadata": {
        "id": "ViAfpy3GzPN-",
        "colab_type": "code",
        "colab": {}
      },
      "source": [
        "while True:\n",
        "    try:\n",
        "        numero = float(input('Digite um número entre 0 e 100: '))\n",
        "        if 1 < numero < 100:\n",
        "            break\n",
        "        else:    \n",
        "            print('O valor digitado é inválido')\n",
        "    except:\n",
        "        print('O valor digitado é inválido')\n",
        "    \n",
        "print(f'O valor digitado foi {numero}.')"
      ],
      "execution_count": 7,
      "outputs": [
        {
          "output_type": "stream",
          "name": "stdout",
          "text": "O valor digitado é inválido\nO valor digitado é inválido\nO valor digitado é inválido\nO valor digitado é inválido\nO valor digitado foi 19.0.\n"
        }
      ]
    },
    {
      "cell_type": "markdown",
      "metadata": {
        "id": "gdMis92izSmQ",
        "colab_type": "text"
      },
      "source": [
        "Crie um algoritmo em Python que leia um nome de usuário e a sua senha e não aceite a senha igual ao nome do usuário, mostrando uma mensagem de erro e voltando a pedir as informações.<br>"
      ]
    },
    {
      "cell_type": "code",
      "metadata": {
        "id": "BFpWkdCBz_zh",
        "colab_type": "code",
        "colab": {}
      },
      "source": [
        "while True:\n",
        "    user = input('Usuário: ')\n",
        "    senha = input('senha: ')\n",
        "    if user.lower() != senha.lower():\n",
        "        print('Sucesso.')\n",
        "        break\n",
        "    else:\n",
        "        print('Nome de usuário e senha não podem ser iguais. Tente novamente.')"
      ],
      "execution_count": 5,
      "outputs": [
        {
          "output_type": "stream",
          "name": "stdout",
          "text": "Nome de usuário e senha não podem ser iguais. Tente novamente.\n"
        }
      ]
    },
    {
      "cell_type": "markdown",
      "metadata": {
        "id": "E_0l_Vx6zSo2",
        "colab_type": "text"
      },
      "source": [
        "Crie um algoritmo em Python que leia e valide as seguintes informações:\n",
        "* Nome: maior que 3 caracteres;\n",
        "* Idade: entre 0 e 150;\n",
        "* Salário: maior que zero;\n",
        "* Sexo: 'f' ou 'm';\n",
        "* Estado Civil: 's', 'c', 'v', 'd';"
      ]
    },
    {
      "cell_type": "code",
      "metadata": {
        "id": "KwJf7XZS0AZW",
        "colab_type": "code",
        "colab": {}
      },
      "source": [
        "while True:\n",
        "    nome = input('Digite o seu nome (mais de 3 caracteres): ')\n",
        "    if len(nome) > 3:\n",
        "        print(f'O nomme informado foi {nome}.')\n",
        "        break\n",
        "    else:\n",
        "        print('Digite um nome com mais de 3 caracteres.')\n",
        "\n",
        "while True:\n",
        "    try:\n",
        "        idade = int(input('Digite a sua idade (entre 0 e 150): '))\n",
        "        if 0 < idade < 150:\n",
        "            print(f'Idade informada foi {idade}.')\n",
        "            break\n",
        "        else:\n",
        "            print('A idade precisa ser maior que 0 e menor que 150.')\n",
        "    except ValueError:\n",
        "        print('A idade informada não é um número inteiro.')\n",
        "\n",
        "while True:\n",
        "    try:\n",
        "        salario = float(input('Informe o seu salário: '))\n",
        "        if salario > 0:\n",
        "            print(f'O salário informado foi {salario}')\n",
        "            break\n",
        "        else:\n",
        "            print('Informe um salário maior que 0.')\n",
        "    except ValueError:\n",
        "        print('O salário informado não é um número.')\n",
        "    \n",
        "while True:\n",
        "    sexo = input('Digite o sexo (F) ou (M): ')\n",
        "    if len(sexo) == 1 or sexo.lower() in ['f', 'm']:\n",
        "        print(f'O sexo informado foi {sexo}')\n",
        "        break\n",
        "    else:\n",
        "        print('Digite um sexo válido.')\n",
        "\n",
        "while True: \n",
        "    estado_civil = input('Informe o estado civil (S)olteiro, (C)asado, (V)iuvo, (D)ivorciado: ')\n",
        "    if len(estado_civil) == 1 and estado_civil.lower() in ['s', 'c', 'v', 'd']:\n",
        "        print(f'O estado civil informado foi {estado_civil}.')\n",
        "        break\n",
        "    else:\n",
        "        print('Digite uma valor válido.')"
      ],
      "execution_count": 8,
      "outputs": [
        {
          "output_type": "stream",
          "name": "stdout",
          "text": "Digite um nome com mais de 3 caracteres.\nO nomme informado foi teste.\nA idade informada não é um número inteiro.\nA idade precisa ser maior que 0 e menor que 150.\nA idade precisa ser maior que 0 e menor que 150.\nA idade precisa ser maior que 0 e menor que 150.\nIdade informada foi 12.\nInforme um salário maior que 0.\nO salário informado não é um número.\nO salário informado foi 12.0\nDigite um sexo válido.\nDigite um sexo válido.\nDigite um sexo válido.\nDigite um sexo válido.\nO sexo informado foi f\nDigite uma valor válido.\nDigite uma valor válido.\nDigite uma valor válido.\nDigite uma valor válido.\nO estado civil informado foi c.\n"
        }
      ]
    },
    {
      "cell_type": "markdown",
      "metadata": {
        "id": "1i4VCiiczSrL",
        "colab_type": "text"
      },
      "source": [
        "Supondo que a população de um país A seja da ordem de 80000 habitantes com uma taxa anual de crescimento de 3% e que a população de B seja 200000 habitantes com uma taxa de crescimento de 1.5%.<br><br> Crie um algoritmo em Python que calcule e escreva o número de anos necessários para que a população do país A ultrapasse ou iguale a população do país B, mantidas as taxas de crescimento."
      ]
    },
    {
      "cell_type": "code",
      "metadata": {
        "id": "yoW67hjA0BHy",
        "colab_type": "code",
        "colab": {}
      },
      "source": [
        "populacao_a = int(80000)\n",
        "populacao_b = int(200000)\n",
        "\n",
        "taxa_crescimento_a = 3\n",
        "taxa_crescimento_b = 1.5\n",
        "\n",
        "anos = 0\n",
        "\n",
        "while populacao_a < populacao_b:\n",
        "    populacao_a += round(populacao_a * (taxa_crescimento_a / 100), 0)\n",
        "    populacao_b += round(populacao_b * (taxa_crescimento_b / 100), 0)\n",
        "\n",
        "    anos += 1\n",
        "\n",
        "print(f'Serão necessários {anos} anos para que a população de A se torne maior ou igual à população de B.')\n",
        "print(f'Em {anos} anos a População de A será {populacao_a} e a população de B será {populacao_b}.')"
      ],
      "execution_count": 15,
      "outputs": [
        {
          "output_type": "stream",
          "name": "stdout",
          "text": "Serão necessários 63 anos para que a população de A se torne maior ou igual à população de B.\nEm 63 anos a População de A será 515034.0 e a população de B será 510969.0.\n"
        }
      ]
    },
    {
      "cell_type": "markdown",
      "metadata": {
        "id": "4ep7kezvzStO",
        "colab_type": "text"
      },
      "source": [
        "Desenvolva um gerador de tabuada, capaz de gerar a tabuada de qualquer número inteiro entre 1 a 10. O usuário deve informar de qual numero ele deseja ver a tabuada. A saída deve ser conforme o exemplo abaixo:\n",
        "Tabuada de 5:<br>\n",
        "5 X 1 = 5<br>\n",
        "5 X 2 = 10<br>\n",
        "...<br>\n",
        "5 X 10 = 50<br>"
      ]
    },
    {
      "cell_type": "code",
      "metadata": {
        "id": "6K6IHWdr0Blt",
        "colab_type": "code",
        "colab": {}
      },
      "source": [
        "while True:\n",
        "    try:\n",
        "        tabuada = int(input('Qual tabuada deseja visualizar: '))\n",
        "        break\n",
        "    except ValueError:\n",
        "        print('A tabuada informada não é um número inteiro válido.')\n",
        "\n",
        "for num in range(1, 11):\n",
        "    print(f'{tabuada} X {num} = {tabuada * num}')\n"
      ],
      "execution_count": 1,
      "outputs": [
        {
          "output_type": "stream",
          "name": "stdout",
          "text": "3 X 1 = 3\n3 X 2 = 6\n3 X 3 = 9\n3 X 4 = 12\n3 X 5 = 15\n3 X 6 = 18\n3 X 7 = 21\n3 X 8 = 24\n3 X 9 = 27\n3 X 10 = 30\n"
        }
      ]
    },
    {
      "cell_type": "markdown",
      "metadata": {
        "id": "u6__NaXqzeYg",
        "colab_type": "text"
      },
      "source": [
        "Crie um algoritmo em Python que leia três números e mostre o maior e o menor deles."
      ]
    },
    {
      "cell_type": "code",
      "metadata": {
        "id": "mm2L7g3x0Cfx",
        "colab_type": "code",
        "colab": {}
      },
      "source": [
        "for posicao in range(1, 4):\n",
        "    x = float(input(f'Digite o {posicao}º número: '))\n",
        "    if posicao == 1:\n",
        "        maior_numero = x\n",
        "        menor_numero = x\n",
        "    else: \n",
        "        if x > maior_numero:\n",
        "            maior_numero = x\n",
        "        if x < menor_numero:\n",
        "            menor_numero = x\n",
        "\n",
        "print(f'O maior número digitado foi {maior_numero}.')\n",
        "print(f'O menor número digitado foi {menor_numero}.')"
      ],
      "execution_count": 0,
      "outputs": []
    },
    {
      "cell_type": "markdown",
      "metadata": {
        "id": "lIlfG-ATzgOr",
        "colab_type": "text"
      },
      "source": [
        "Crie um algoritmo em Python que peça 2 números, base e expoente, calcule e mostre o primeiro número elevado ao segundo número. Não utilize a função de potência da linguagem."
      ]
    },
    {
      "cell_type": "code",
      "metadata": {
        "id": "-y4pB6br0DD_",
        "colab_type": "code",
        "colab": {}
      },
      "source": [
        "base = float(input('digite a base: '))\n",
        "expoente = float(input('Digite o expoente: '))\n",
        "\n",
        "print(f'Resultado: {base ** expoente}')"
      ],
      "execution_count": 2,
      "outputs": [
        {
          "output_type": "stream",
          "name": "stdout",
          "text": "Resultado: 16.0\n"
        }
      ]
    },
    {
      "cell_type": "markdown",
      "metadata": {
        "id": "Vj4OXsJQziu_",
        "colab_type": "text"
      },
      "source": [
        "Crie um algoritmo em Python que peça 10 números inteiros, calcule e mostre a quantidade de números pares e a quantidade de números impares."
      ]
    },
    {
      "cell_type": "code",
      "metadata": {
        "id": "RmApGpg30D00",
        "colab_type": "code",
        "colab": {}
      },
      "source": [
        "pares = 0\n",
        "impares = 0\n",
        "\n",
        "for posicao in range(1, 11):\n",
        "    numero = int(input(f'Digite o {posicao}º número: '))\n",
        "    if numero % 2 == 0:\n",
        "        pares += 1\n",
        "    else:\n",
        "        impares += 1\n",
        "\n",
        "print(f'Foram digitados {pares} número pares e {impares} números ímpares.')"
      ],
      "execution_count": 3,
      "outputs": [
        {
          "output_type": "stream",
          "name": "stdout",
          "text": "Foram digitados 7 número pares e 3 números ímpares.\n"
        }
      ]
    },
    {
      "cell_type": "markdown",
      "metadata": {
        "id": "e7id8Ewgzlow",
        "colab_type": "text"
      },
      "source": [
        "Um funcionário de uma empresa recebe aumento salarial anualmente: Sabe-se que:\n",
        "Esse funcionário foi contratado em 1995, com salário inicial de R$ 1.000,00;\n",
        "Em 1996 recebeu aumento de 1,5% sobre seu salário inicial;\n",
        "A partir de 1997 (inclusive), os aumentos salariais sempre correspondem ao dobro do percentual do ano anterior. Crie um algoritmo em Python que determine o salário atual desse funcionário. Após concluir isto, altere o programa permitindo que o usuário digite o salário inicial do funcionário."
      ]
    },
    {
      "cell_type": "code",
      "metadata": {
        "id": "Kl0ainsv0Eif",
        "colab_type": "code",
        "colab": {}
      },
      "source": [
        "import datetime\n",
        "\n",
        "\n",
        "while True:\n",
        "    try:\n",
        "        salario_inicial = float(input('Digite o valor do salário inicial: '))\n",
        "        break\n",
        "    except ValueError:\n",
        "        print('Digite um valor decimal ou inteiro válido.')\n",
        "\n",
        "while True:\n",
        "    try:\n",
        "        ano_contratacao = int(input('Informe o ano de contratação do funcionário.'))\n",
        "        break\n",
        "    except ValueError:\n",
        "        print('Ano digitado é inválido.')\n",
        "\n",
        "ano_atual = datetime.datetime.now().year\n",
        "ano_contrato = ano_contratacao\n",
        "salario_atual = salario_inicial\n",
        "taxa_aumento = 1.5\n",
        "while ano_contrato <= ano_atual:\n",
        "    if ano_contrato <= 1996:\n",
        "        taxa_aumento = 1.5\n",
        "    else:\n",
        "        taxa_aumento *= 2\n",
        "    salario_atual += salario_atual * (taxa_aumento / 100)\n",
        "    ano_contrato += 1\n",
        "\n",
        "print(f'O salário do funcionário em {ano_atual} é de R${round(salario_atual, 2)}.')"
      ],
      "execution_count": 10,
      "outputs": [
        {
          "output_type": "stream",
          "name": "stdout",
          "text": "O salário do funcionário em 2020 é de R$1.6008915378485194e+54.\n"
        }
      ]
    },
    {
      "cell_type": "markdown",
      "metadata": {
        "id": "5u9i4kzm-itX",
        "colab_type": "text"
      },
      "source": [
        "Crie um algoritmo em Python com uma função que necessite de um argumento. A função retorna o valor de caractere ‘P’, se seu argumento for positivo, e ‘N’, se seu argumento for zero ou negativo."
      ]
    },
    {
      "cell_type": "code",
      "execution_count": 15,
      "metadata": {},
      "outputs": [
        {
          "output_type": "stream",
          "name": "stdout",
          "text": "n\n"
        }
      ],
      "source": [
        "def positivo_negativo(numero):\n",
        "    return 'p' if int(numero) != 0 and int(numero) % 2 == 0 else 'n' \n",
        "\n",
        "num = input('digite um número: ')\n",
        "print(positivo_negativo(num))"
      ]
    },
    {
      "cell_type": "markdown",
      "metadata": {
        "id": "CHiYMSOJ-rSY",
        "colab_type": "text"
      },
      "source": [
        "Construa uma função que receba uma data no formato DD/MM/AAAA e devolva uma string no formato D de mesPorExtenso de AAAA. Opcionalmente, valide a data e retorne NULL caso a data seja inválida."
      ]
    },
    {
      "cell_type": "code",
      "metadata": {
        "id": "6Ukxx6gQ-r4-",
        "colab_type": "code",
        "colab": {}
      },
      "source": [
        "import datetime as dtime\n",
        "\n",
        "\n",
        "def data_por_extenso(data):\n",
        "    try:\n",
        "        dtime.datetime.strptime(data, '%d/%m/%Y')\n",
        "    except ValueError:\n",
        "        return ('Data fora do padrão. Formato dd/mm/aaaa')\n",
        "    mes_extenso = ['Meses', 'Janeiro', 'Fevereiro', 'Março', 'Abril', 'Maio', 'Junho', 'Julho', 'Agosto', 'Setembro', 'Outubro', 'Novembro', 'Dezembro']\n",
        "    data_separada = data.split('/')\n",
        "\n",
        "    return str(f'{data_separada[0]} de {mes_extenso[int(data_separada[1])]} de {data_separada[2]}.')\n",
        "\n",
        "\n",
        "print(data_por_extenso(input('Digite a data no formato dd/mm/aaaa: ')))\n"
      ],
      "execution_count": 28,
      "outputs": [
        {
          "output_type": "stream",
          "name": "stdout",
          "text": "19 de Outubro de 2020.\n"
        }
      ]
    },
    {
      "cell_type": "markdown",
      "metadata": {
        "id": "AzUYbZ8A-zj7",
        "colab_type": "text"
      },
      "source": [
        "Crie uma classe que modele uma pessoa:<br>\n",
        "\n",
        "Atributos: nome, idade, peso e altura<br>\n",
        "Métodos: Envelhercer, engordar, emagrecer, crescer.<br>\n",
        "<br>Obs: Por padrão, a cada ano que nossa pessoa envelhece, sendo a idade dela menor que 21 anos, ela deve crescer 0,5 cm."
      ]
    },
    {
      "cell_type": "code",
      "execution_count": 47,
      "metadata": {},
      "outputs": [
        {
          "output_type": "stream",
          "name": "stdout",
          "text": "Nome: Fulano\nIdade: 15\nAltura: 1.59\nPeso: 58.3\n\n\n\nNome: Fulano\nIdade: 16\nAltura: 1.64\nPeso: 58.3\n\n\n\nNome: Fulano\nIdade: 16\nAltura: 1.64\nPeso: 56.3\n\n\n\nNome: Fulano\nIdade: 16\nAltura: 1.64\nPeso: 60.3\n\n\n\nNome: Fulano\nIdade: 16\nAltura: 1.67\nPeso: 60.3\n\n\n\nNome: Fulano\nIdade: 16\nAltura: 1.67\nPeso: 60.3\n"
        }
      ],
      "source": [
        "class pessoa():\n",
        "    def __init__(self, nome, idade, altura, peso):\n",
        "        self.nome = nome\n",
        "        self.idade = idade\n",
        "        self.altura = altura\n",
        "        self.peso = peso\n",
        "\n",
        "\n",
        "    def envelhecer(self):\n",
        "        self.idade += 1\n",
        "        if self.idade < 21:\n",
        "            self.crescer()\n",
        "    \n",
        "\n",
        "    def crescer(self, crescimento = 0):\n",
        "        if crescimento == 0:\n",
        "            crescimento = 0.05\n",
        "        self.altura = round(self.altura + crescimento, 2)\n",
        "\n",
        "\n",
        "    def emagrecer(self, perde_peso):\n",
        "        self.peso -= perde_peso\n",
        "\n",
        "\n",
        "    def engordar(self, ganha_peso):\n",
        "        self.peso += ganha_peso\n",
        "\n",
        "\n",
        "fulano = pessoa('Fulano', 15, 1.59, 58.3)\n",
        "print(f'Nome: {fulano.nome}\\nIdade: {fulano.idade}\\nAltura: {fulano.altura}\\nPeso: {fulano.peso}\\n\\n\\n')\n",
        "fulano.envelhecer()\n",
        "print(f'Nome: {fulano.nome}\\nIdade: {fulano.idade}\\nAltura: {fulano.altura}\\nPeso: {fulano.peso}\\n\\n\\n')\n",
        "fulano.emagrecer(2)\n",
        "print(f'Nome: {fulano.nome}\\nIdade: {fulano.idade}\\nAltura: {fulano.altura}\\nPeso: {fulano.peso}\\n\\n\\n')\n",
        "fulano.engordar(4)\n",
        "print(f'Nome: {fulano.nome}\\nIdade: {fulano.idade}\\nAltura: {fulano.altura}\\nPeso: {fulano.peso}\\n\\n\\n')\n",
        "fulano.crescer(0.03)\n",
        "print(f'Nome: {fulano.nome}\\nIdade: {fulano.idade}\\nAltura: {fulano.altura}\\nPeso: {fulano.peso}\\n\\n\\n')\n",
        "\n"
      ]
    },
    {
      "cell_type": "code",
      "execution_count": null,
      "metadata": {},
      "outputs": [],
      "source": []
    }
  ],
  "metadata": {
    "colab": {
      "name": "Fase3.ipynb",
      "provenance": []
    },
    "kernelspec": {
      "name": "python3",
      "display_name": "Python 3"
    }
  },
  "nbformat": 4,
  "nbformat_minor": 0
}