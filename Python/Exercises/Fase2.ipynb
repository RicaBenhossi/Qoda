{
  "cells": [
    {
      "cell_type": "markdown",
      "metadata": {
        "id": "CYNAmoj4zSXl",
        "colab_type": "text"
      },
      "source": [
        "Crie um algoritmo em Python que peça 2 números e imprima o maior deles."
      ]
    },
    {
      "cell_type": "code",
      "metadata": {
        "id": "ViAfpy3GzPN-",
        "colab_type": "code",
        "colab": {}
      },
      "source": [
        "x = float(input('Digite um número: '))\n",
        "y = float(input('Digite outro número: '))\n",
        "if (x > y):\n",
        "    print(f'{x} é maior que {y}')\n",
        "elif (y > x):\n",
        "    print(f'{y} é maior que {x}')\n",
        "else:\n",
        "    print(f'Os números são iguais.')"
      ],
      "execution_count": 3,
      "outputs": [
        {
          "output_type": "stream",
          "name": "stdout",
          "text": "2.0 é maior que 1.0\n"
        }
      ]
    },
    {
      "cell_type": "markdown",
      "metadata": {
        "id": "gdMis92izSmQ",
        "colab_type": "text"
      },
      "source": [
        "Crie um algoritmo em Python que peça um valor e mostre na tela se o valor é positivo ou negativo."
      ]
    },
    {
      "cell_type": "code",
      "metadata": {
        "id": "BFpWkdCBz_zh",
        "colab_type": "code",
        "colab": {}
      },
      "source": [
        "x = float(input('Digite um número: '))\n",
        "if (x >= 0):\n",
        "    print(f'O número {x} é positivo.')\n",
        "else:\n",
        "    print(f'O número {x} é negativo.')"
      ],
      "execution_count": 7,
      "outputs": [
        {
          "output_type": "stream",
          "name": "stdout",
          "text": "O número 0.0 é positivo.\n"
        }
      ]
    },
    {
      "cell_type": "markdown",
      "metadata": {
        "id": "E_0l_Vx6zSo2",
        "colab_type": "text"
      },
      "source": [
        "Crie um algoritmo em Python que verifique se uma letra digitada é vogal ou consoante."
      ]
    },
    {
      "cell_type": "code",
      "metadata": {
        "id": "KwJf7XZS0AZW",
        "colab_type": "code",
        "colab": {}
      },
      "source": [
        "letra = input('Digite uma letra: ')\n",
        "if (letra.lower() in ['a', 'e', 'i', 'o', 'u']):\n",
        "    print(f'A letra {letra} é uma vogal.')\n",
        "else:\n",
        "    print(f'A letra {letra.upper()} é uma consoante')\n"
      ],
      "execution_count": 11,
      "outputs": [
        {
          "output_type": "stream",
          "name": "stdout",
          "text": "A letra v é uma consoante\n"
        }
      ]
    },
    {
      "cell_type": "markdown",
      "metadata": {
        "id": "1i4VCiiczSrL",
        "colab_type": "text"
      },
      "source": [
        "Faça um programa para a leitura de duas notas parciais de um aluno. O programa deve calcular a média alcançada por aluno e apresentar:\n",
        "* \"Aprovado\", se a média alcançada for maior ou igual a sete;\n",
        "* \"Reprovado\", se a média for menor do que sete;\n",
        "* \"Aprovado com Distinção\", se a média for igual a 10."
      ]
    },
    {
      "cell_type": "code",
      "metadata": {
        "id": "yoW67hjA0BHy",
        "colab_type": "code",
        "colab": {}
      },
      "source": [
        "media = 0\n",
        "for nota in range(1, 3):\n",
        "    media += float(input(f'Digite a {nota}ª nota: '))\n",
        "\n",
        "media /= 2\n",
        "\n",
        "if media == 10:\n",
        "    print(f'Aprovado com Distinção. Média {media}.')\n",
        "elif media >= 7:\n",
        "    print(f'Aprovado. Média {media}.')\n",
        "else:\n",
        "    print(f'Reprovado. Média {media}.')"
      ],
      "execution_count": 15,
      "outputs": [
        {
          "output_type": "stream",
          "name": "stdout",
          "text": "Reprovado. Média 3.0.\n"
        }
      ]
    },
    {
      "cell_type": "markdown",
      "metadata": {
        "id": "4ep7kezvzStO",
        "colab_type": "text"
      },
      "source": [
        "Crie um algoritmo em Python que leia três números e mostre o maior deles."
      ]
    },
    {
      "cell_type": "code",
      "metadata": {
        "id": "6K6IHWdr0Blt",
        "colab_type": "code",
        "colab": {}
      },
      "source": [
        "\n",
        "for posicao in range(1, 4):\n",
        "    x = float(input(f'Digite o {posicao}º número: '))\n",
        "    if posicao == 1:\n",
        "        maior_numero = x\n",
        "    elif x > maior_numero:\n",
        "        maior_numero = x\n",
        "\n",
        "print(f'O maior número digitado foi {maior_numero}.')\n"
      ],
      "execution_count": 20,
      "outputs": [
        {
          "output_type": "stream",
          "name": "stdout",
          "text": "O maior número digitado foi 6.0.\n"
        }
      ]
    },
    {
      "cell_type": "markdown",
      "metadata": {
        "id": "u6__NaXqzeYg",
        "colab_type": "text"
      },
      "source": [
        "Crie um algoritmo em Python que leia três números e mostre o maior e o menor deles."
      ]
    },
    {
      "cell_type": "code",
      "metadata": {
        "id": "mm2L7g3x0Cfx",
        "colab_type": "code",
        "colab": {}
      },
      "source": [
        "for posicao in range(1, 4):\n",
        "    x = float(input(f'Digite o {posicao}º número: '))\n",
        "    if posicao == 1:\n",
        "        maior_numero = x\n",
        "        menor_numero = x\n",
        "    else: \n",
        "        if x > maior_numero:\n",
        "            maior_numero = x\n",
        "        if x < menor_numero:\n",
        "            menor_numero = x\n",
        "\n",
        "print(f'O maior número digitado foi {maior_numero}.')\n",
        "print(f'O menor número digitado foi {menor_numero}.')"
      ],
      "execution_count": 24,
      "outputs": [
        {
          "output_type": "stream",
          "name": "stdout",
          "text": "O maior número digitado foi 8.0.\nO nemo número digitado foi 1.0.\n"
        }
      ]
    },
    {
      "cell_type": "markdown",
      "metadata": {
        "id": "lIlfG-ATzgOr",
        "colab_type": "text"
      },
      "source": [
        "Faça um programa que pergunte o preço de 5 produtos e informe qual produto você deve comprar, sabendo que a decisão é sempre pelo mais barato."
      ]
    },
    {
      "cell_type": "code",
      "metadata": {
        "id": "-y4pB6br0DD_",
        "colab_type": "code",
        "colab": {}
      },
      "source": [
        "for posicao in range(1, 6):\n",
        "    x = float(input(f'Digite o {posicao}º preço: '))\n",
        "    if posicao == 1:\n",
        "        menor_preco = x\n",
        "        posicao_produto = posicao\n",
        "    elif x < menor_numero:\n",
        "        menor_preco = x\n",
        "        posicao_produto = posicao\n",
        "\n",
        "print(f'O menor preço encontrado foi o produto na posição {posicao_produto} com valor de R${menor_preco}.')\n"
      ],
      "execution_count": 25,
      "outputs": [
        {
          "output_type": "stream",
          "name": "stdout",
          "text": "O menor preço encontrado foi o produto na posição 1 com valor de R$2.0.\n"
        }
      ]
    },
    {
      "cell_type": "markdown",
      "metadata": {
        "id": "Vj4OXsJQziu_",
        "colab_type": "text"
      },
      "source": [
        "Crie um algoritmo em Python que leia três números e mostre-os em ordem decrescente."
      ]
    },
    {
      "cell_type": "code",
      "metadata": {
        "id": "RmApGpg30D00",
        "colab_type": "code",
        "colab": {}
      },
      "source": [
        "# INSIRA SEU CÓDIGO AQUI"
      ],
      "execution_count": 0,
      "outputs": []
    },
    {
      "cell_type": "markdown",
      "metadata": {
        "id": "e7id8Ewgzlow",
        "colab_type": "text"
      },
      "source": [
        "As Organizações Mendéz resolveram dar um aumento de salário aos seus colaboradores e lhe contraram para desenvolver o programa que calculará os reajustes em Python. Faça um programa que receba o salário de um colaborador e o reajuste segundo o seguinte critério, baseado no salário atual:\n",
        "\n",
        "* salários entre 680,00 e 800,00 : aumento de 15%<br>\n",
        "* salários entre 800,00 e 2500,00 : aumento de 10%<br>\n",
        "* salários de 2500,00 em diante : aumento de 5% após o aumento ser realizado.\n",
        "\n",
        "Informe na tela:\n",
        "* o salário antes do reajuste;\n",
        "* o percentual de aumento aplicado;\n",
        "* o valor do aumento;\n",
        "* o novo salário, após o aumento."
      ]
    },
    {
      "cell_type": "code",
      "metadata": {
        "id": "Kl0ainsv0Eif",
        "colab_type": "code",
        "colab": {}
      },
      "source": [
        "salario_atual = float(input('Informe o seu salário atual: '))\n",
        "\n",
        "if salario_atual > 2500:\n",
        "    percentual_aumento = 5\n",
        "elif salario_atual > 800:\n",
        "    percentual_aumento = 10\n",
        "else:\n",
        "    percentual_aumento = 15\n",
        "\n",
        "valor_aumento = salario_atual * (percentual_aumento / 100)\n",
        "salario_novo = salario_atual + valor_aumento\n",
        "\n",
        "print(f'O seu salário atual é de R${salario_atual}.')\n",
        "print(f'O percentual de aumento no seu salário será de {percentual_aumento}%.')\n",
        "print(f'O valor do aumento no seu salário será de R${valor_aumento}.')\n",
        "print(f'Seu novo salário é de R${salario_novo}.')"
      ],
      "execution_count": 30,
      "outputs": [
        {
          "output_type": "stream",
          "name": "stdout",
          "text": "O seu salário atual é de R$5000.0.\nO percentual de aumento no seu salário será de 5%.\nO valor do aumento no seu salário será de R$250.0.\nSeu novo salário é de R$5250.0.\n"
        }
      ]
    },
    {
      "cell_type": "code",
      "execution_count": null,
      "metadata": {},
      "outputs": [],
      "source": []
    }
  ],
  "metadata": {
    "colab": {
      "name": "Fase2.ipynb",
      "provenance": []
    },
    "kernelspec": {
      "name": "python3",
      "display_name": "Python 3"
    }
  },
  "nbformat": 4,
  "nbformat_minor": 0
}